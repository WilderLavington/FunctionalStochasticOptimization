{
 "cells": [
  {
   "cell_type": "code",
   "execution_count": 1,
   "id": "6817e1a5",
   "metadata": {},
   "outputs": [],
   "source": [
    "from tqdm import tqdm\n",
    "import wandb\n",
    "api = wandb.Api(timeout=180)\n",
    "import os\n",
    "import pandas as pd\n",
    "import wandb\n",
    "import yaml\n",
    "from pathlib import Path\n",
    "from copy import deepcopy\n",
    "import torch\n",
    "import matplotlib.pyplot as plt\n",
    "import numpy as np\n",
    "import argparse\n",
    "import itertools\n",
    "import  matplotlib.pyplot as plt\n",
    "import matplotlib.patches as mpatches\n",
    "import itertools\n",
    "import time\n",
    "import matplotlib as mpl\n",
    "import matplotlib.ticker as ticker\n"
   ]
  },
  {
   "cell_type": "code",
   "execution_count": 2,
   "id": "03fa6653",
   "metadata": {},
   "outputs": [
    {
     "name": "stdout",
     "output_type": "stream",
     "text": [
      "File already exists\n"
     ]
    }
   ],
   "source": [
    "USER='wilderlavington' \n",
    "PROJECT='FunctionalOptimization'\n",
    "SUMMARY_FILE='aistats_fig1_updated.csv'  \n",
    "try:\n",
    "    os.makedirs(\"plots/aistats/\")\n",
    "except FileExistsError:\n",
    "    print(\"File already exists\")"
   ]
  },
  {
   "cell_type": "code",
   "execution_count": 3,
   "id": "0579afb2",
   "metadata": {},
   "outputs": [],
   "source": [
    "%run plotting_utils.py"
   ]
  },
  {
   "cell_type": "code",
   "execution_count": 4,
   "id": "6745cfe9",
   "metadata": {},
   "outputs": [
    {
     "name": "stderr",
     "output_type": "stream",
     "text": [
      "100%|█████████████████████████████████████| 12132/12132 [24:35<00:00,  8.22it/s]\n"
     ]
    }
   ],
   "source": [
    "download_wandb_summary(user=USER, project=PROJECT, summary_file=SUMMARY_FILE)"
   ]
  },
  {
   "cell_type": "code",
   "execution_count": null,
   "id": "572f4f55",
   "metadata": {},
   "outputs": [
    {
     "name": "stderr",
     "output_type": "stream",
     "text": [
      "/home/wlavington/Desktop/mujoco_env/lib/python3.8/site-packages/IPython/core/interactiveshell.py:3361: DtypeWarning: Columns (9,12) have mixed types.Specify dtype option on import or set low_memory=False.\n",
      "  if (await self.run_code(code, result,  async_=asy)):\n",
      " 24%|████████▍                           | 2863/12132 [15:49<1:09:44,  2.21it/s]"
     ]
    }
   ],
   "source": [
    "download_wandb_records(user=USER, project=PROJECT, summary_file=SUMMARY_FILE)"
   ]
  },
  {
   "cell_type": "code",
   "execution_count": null,
   "id": "dcd9d1ba",
   "metadata": {},
   "outputs": [],
   "source": [
    "def generate_sls_figure(loss, schedule, wandb_records, fig_name, x ='optim_steps', y='avg_loss'):\n",
    "    \n",
    "    # base info   \n",
    "    dataset_names = ['mushrooms', 'ijcnn', 'rcv1']\n",
    "    batch_sizes = [25, 125, 625]\n",
    "    m = [1, 5, 10, 20] \n",
    "    wandb_records = wandb_records[wandb_records['group']=='AIstats_narval']\n",
    "    # init plots \n",
    "    fig, axs = plt.subplots(len(dataset_names), len(batch_sizes)+1, figsize=(16, 8))\n",
    "    colors = mpl.cm.Set1.colors   # Qualitative colormap\n",
    "    colormap = {'SGD': '#44AA99' , 'SLS': '#DDCC77'}\n",
    "    colormap.update({'SSO-1':  '#CC6677' ,  'SSO-5': '#AA4499', 'SSO-10': '#882255' , 'SSO-20': '#332288'})\n",
    "    algorithms = ['SGD', 'SLS'] + ['SSO-'+str(m_) for m_ in m] \n",
    "    label_map = {x:'Optimization-Steps', y:'Gradient-Norm'}\n",
    "    \n",
    "    # now add in the lines to each of the plots \n",
    "    for row, dataset_name in enumerate(dataset_names):\n",
    "        \n",
    "        # figure out axis automatically \n",
    "        x_max = 0 \n",
    "\n",
    "        # SLS\n",
    "        proc_df = format_dataframe(wandb_records,\n",
    "            id_subfields={'fullbatch': 1,  \n",
    "            'use_optimal_stepsize': 1, 'loss': loss, 'algo': 'LSOpt',\n",
    "            'eta_schedule': schedule, 'dataset_name': dataset_name},\n",
    "            x_col=x , y_col=y) \n",
    "        if proc_df is not None:\n",
    "            x_max = max(proc_df[x].values.max(), x_max)\n",
    "            axs[row][-1] = generate_plot(proc_df, x, y, axs[row][-1], label='SLS', \n",
    "                                         linestyle='dashed', color=colormap['SLS'])\n",
    "        else:\n",
    "            print('missing SLS  ', dataset_name, 'full-batch')\n",
    "\n",
    "        # SGD\n",
    "        proc_df = format_dataframe(wandb_records,\n",
    "            id_subfields={'fullbatch': 1,  \n",
    "            'use_optimal_stepsize': 1, 'loss': loss, 'algo': 'SGD',\n",
    "            'eta_schedule': schedule, 'dataset_name': dataset_name},\n",
    "            x_col=x , y_col=y) \n",
    "        if proc_df is not None: \n",
    "            x_max = max(proc_df[x].values.max(), x_max)\n",
    "            axs[row][-1] = generate_plot(proc_df, x, y, axs[row][-1], label='SGD', \n",
    "                                         linestyle='dashed', color=colormap['SGD'])\n",
    "        else:\n",
    "            print('missing SGD  ', dataset_name, 'full-batch')\n",
    "        \n",
    "        # FMDopt theoretical \n",
    "        for m_ in m:\n",
    "            # create parsed info \n",
    "            proc_df = format_dataframe(wandb_records, \n",
    "                id_subfields={'fullbatch': 1, 'use_optimal_stepsize': 1, 'outer_c': 0.5,\n",
    "                    'loss': loss, 'algo': 'SLS_FMDOpt', 'm': m_, #'_step': 499.0,\n",
    "                    'eta_schedule': schedule, 'dataset_name': dataset_name}, \n",
    "                     avg_subfields=['seed'], max_subfields=['c'],\n",
    "                x_col=x, y_col=y)\n",
    "            if proc_df is not None:\n",
    "                x_max = max(proc_df[x].values.max(), x_max)\n",
    "                axs[row][-1] = generate_plot(proc_df, x, y, axs[row][-1],  \\\n",
    "                                        label='SSO-'+str(m_), linestyle='solid', color=colormap['SSO-'+str(m_)])\n",
    "            else:\n",
    "                print('missing FMDopt  ', m_, dataset_name, 'full-batch') \n",
    "        axs[row][-1].grid()     \n",
    "        axs[row][-1].set_yscale(\"log\")\n",
    "        axs[row][-1].set_xscale(\"log\") \n",
    "        \n",
    "        # mini-batch plots \n",
    "        for col, batch_size in enumerate(batch_sizes):\n",
    "            \n",
    "            # figure out axis automatically \n",
    "            x_max = 0 \n",
    "            \n",
    "            # SLS\n",
    "            proc_df = format_dataframe(wandb_records,\n",
    "                id_subfields={'batch_size': batch_size,  #'_step': 499.0,\n",
    "                'use_optimal_stepsize': 1, 'loss': loss, 'algo': 'LSOpt',\n",
    "                'eta_schedule': schedule, 'dataset_name': dataset_name},\n",
    "                x_col=x , y_col=y) \n",
    "            if proc_df is not None:\n",
    "                x_max = max(proc_df[x].values.max(), x_max)\n",
    "                axs[row][col] = generate_plot(proc_df, x, y, axs[row][col], label='SLS', \n",
    "                                             linestyle='dashed', color=colormap['SLS'])\n",
    "            else:\n",
    "                print('missing SLS  ', dataset_name, batch_size)\n",
    "            \n",
    "            # SGD\n",
    "            proc_df = format_dataframe(wandb_records,\n",
    "                id_subfields={'batch_size': batch_size, '_step': 499.0,\n",
    "                'use_optimal_stepsize': 1, 'loss': loss, 'algo': 'SGD',\n",
    "                'eta_schedule': schedule, 'dataset_name': dataset_name},\n",
    "                x_col=x , y_col=y) \n",
    "            if proc_df is not None: \n",
    "                x_max = max(proc_df[x].values.max(), x_max)\n",
    "                axs[row][col] = generate_plot(proc_df, x, y, axs[row][col], label='SGD', \n",
    "                                             linestyle='dashed', color=colormap['SGD'])\n",
    "            else:\n",
    "                print('missing SGD  ', dataset_name, batch_size)\n",
    "    \n",
    "            # FMDopt theoretical \n",
    "            for m_ in m:\n",
    "                # create parsed info \n",
    "                proc_df = format_dataframe(wandb_records, \n",
    "                    id_subfields={'batch_size': batch_size, 'outer_c': 0.5,\n",
    "                        'use_optimal_stepsize': 1, '_step': 499.0,\n",
    "                        'loss': loss, 'algo': 'SLS_FMDOpt', 'm': m_,\n",
    "                        'eta_schedule': schedule, 'dataset_name': dataset_name}, \n",
    "                         avg_subfields=['seed'], max_subfields=['c'],\n",
    "                    x_col=x, y_col=y)\n",
    "                if proc_df is not None:\n",
    "                    x_max = max(proc_df[x].values.max(), x_max)\n",
    "                    axs[row][col] = generate_plot(proc_df, x, y, axs[row][col], \\\n",
    "                                            label='SSO-'+str(m_), linestyle='solid', color=colormap['SSO-'+str(m_)])\n",
    "                else:\n",
    "                    print('missing FMDopt  ', m_, dataset_name, batch_size) \n",
    "            \n",
    "            axs[row][col].grid()     \n",
    "            axs[row][col].ticklabel_format(axis='x', style='sci', scilimits=(0,0))\n",
    "            axs[row][col].yaxis.set_major_locator(plt.MaxNLocator(4))\n",
    "            axs[row][col].set_yscale(\"log\")\n",
    "            axs[row][col].set_xscale(\"log\")\n",
    "            axs[0][col].set_title('batch_size: '+str(batch_size), fontsize=22)\n",
    "            axs[0][-1].set_title('full-batch', fontsize=22)\n",
    "            axs[row][-1].set_ylabel(dataset_name, fontsize=22)\n",
    "            axs[row][-1].yaxis.set_label_position(\"right\") \n",
    "        \n",
    "        axs[row][col].xaxis.set_minor_locator(mpl.ticker.LogLocator(base=10,numticks=100))\n",
    "        axs[row][col].xaxis.set_minor_formatter(mpl.ticker.NullFormatter()) \n",
    "        axs[row][col].yaxis.set_minor_formatter(mpl.ticker.NullFormatter())\n",
    "        \n",
    "    # remaining format stuff  \n",
    "    handles = [mpatches.Patch(color=colormap[algo], label=algo) for algo in algorithms]\n",
    "    leg = fig.legend(handles=handles,\n",
    "           loc=\"lower center\",   # Position of legend\n",
    "           borderaxespad=1.65,    # Small spacing around legend box\n",
    "           # title=\"Algorithms\",  # Title for the legend\n",
    "           fontsize=18,\n",
    "           ncol=7, \n",
    "           bbox_to_anchor=(0.525, -0.12),\n",
    "           )\n",
    "    \n",
    "    plt.subplots_adjust(hspace=1.5)\n",
    "    plt.rcParams['figure.dpi'] = 100# 400  \n",
    "    fig.tight_layout()\n",
    "    \n",
    "    # show / save\n",
    "    plt.savefig('plots/aistats/workshop-sls_sso-'+fig_name+loss+'.pdf', bbox_inches='tight')\n",
    "    plt.show() "
   ]
  },
  {
   "cell_type": "code",
   "execution_count": null,
   "id": "e8ea348d",
   "metadata": {},
   "outputs": [],
   "source": [
    " wandb_records = pd.read_csv('logs/wandb_data/__full__'+SUMMARY_FILE, header=0, squeeze=True)"
   ]
  },
  {
   "cell_type": "code",
   "execution_count": null,
   "id": "b5b7836a",
   "metadata": {},
   "outputs": [],
   "source": [
    "# loss comparison\n",
    "generate_sls_figure('MSELoss', 'constant', wandb_records, fig_name='a', x ='optim_steps', y='avg_loss')\n",
    "generate_sls_figure('BCEWithLogitsLoss', 'constant', wandb_records, fig_name='a', x ='optim_steps', y='avg_loss')\n",
    "# grad-norm comparison\n",
    "generate_sls_figure('MSELoss', 'constant', wandb_records, fig_name='a', x ='optim_steps', y='grad_norm')\n",
    "generate_sls_figure('BCEWithLogitsLoss', 'constant', wandb_records, fig_name='a', x ='optim_steps', y='grad_norm')\n",
    "# time-elapsed comparison\n",
    "generate_sls_figure('MSELoss', 'constant', wandb_records, fig_name='a', x ='time_elapsed', y='avg_loss')\n",
    "generate_sls_figure('BCEWithLogitsLoss', 'constant', wandb_records, fig_name='a', x ='time_elapsed', y='avg_loss')"
   ]
  },
  {
   "cell_type": "code",
   "execution_count": null,
   "id": "cd9f1a31",
   "metadata": {},
   "outputs": [],
   "source": [
    "# loss comparison\n",
    "generate_sls_figure('MSELoss', 'stochastic', wandb_records, fig_name='b', x ='optim_steps', y='avg_loss')\n",
    "generate_sls_figure('BCEWithLogitsLoss', 'stochastic', wandb_records, fig_name='b', x ='optim_steps', y='avg_loss')\n",
    "# grad-norm comparison\n",
    "generate_sls_figure('MSELoss', 'stochastic', wandb_records, fig_name='b', x ='optim_steps', y='grad_norm')\n",
    "generate_sls_figure('BCEWithLogitsLoss', 'stochastic', wandb_records, fig_name='b', x ='optim_steps', y='grad_norm')\n",
    "# time-elapsed comparison\n",
    "generate_sls_figure('MSELoss', 'stochastic', wandb_records, fig_name='b', x ='time_elapsed', y='avg_loss')\n",
    "generate_sls_figure('BCEWithLogitsLoss', 'stochastic', wandb_records, fig_name='b', x ='time_elapsed', y='avg_loss')"
   ]
  },
  {
   "cell_type": "code",
   "execution_count": null,
   "id": "1be4c569",
   "metadata": {},
   "outputs": [],
   "source": [
    "# loss comparison\n",
    "generate_sls_figure('MSELoss', 'exponential', wandb_records, fig_name='c', x ='optim_steps', y='avg_loss')\n",
    "generate_sls_figure('BCEWithLogitsLoss', 'exponential', wandb_records, fig_name='c', x ='optim_steps', y='avg_loss')\n",
    "# grad-norm comparison\n",
    "generate_sls_figure('MSELoss', 'exponential', wandb_records, fig_name='c', x ='optim_steps', y='grad_norm')\n",
    "generate_sls_figure('BCEWithLogitsLoss', 'exponential', wandb_records, fig_name='c', x ='optim_steps', y='grad_norm')\n",
    "# time-elapsed comparison\n",
    "generate_sls_figure('MSELoss', 'exponential', wandb_records, fig_name='c', x ='time_elapsed', y='avg_loss')\n",
    "generate_sls_figure('BCEWithLogitsLoss', 'exponential', wandb_records, fig_name='c', x ='time_elapsed', y='avg_loss')"
   ]
  },
  {
   "cell_type": "code",
   "execution_count": null,
   "id": "f4555686",
   "metadata": {
    "scrolled": false
   },
   "outputs": [],
   "source": [
    " "
   ]
  },
  {
   "cell_type": "code",
   "execution_count": null,
   "id": "eaeddb6b",
   "metadata": {},
   "outputs": [],
   "source": [
    " "
   ]
  },
  {
   "cell_type": "code",
   "execution_count": null,
   "id": "272b208f",
   "metadata": {},
   "outputs": [],
   "source": [
    " "
   ]
  },
  {
   "cell_type": "code",
   "execution_count": null,
   "id": "d3bc88a5",
   "metadata": {},
   "outputs": [],
   "source": []
  },
  {
   "cell_type": "code",
   "execution_count": null,
   "id": "40095e4d",
   "metadata": {},
   "outputs": [],
   "source": []
  },
  {
   "cell_type": "code",
   "execution_count": null,
   "id": "febbd3df",
   "metadata": {},
   "outputs": [],
   "source": []
  }
 ],
 "metadata": {
  "kernelspec": {
   "display_name": "Python 3 (ipykernel)",
   "language": "python",
   "name": "python3"
  },
  "language_info": {
   "codemirror_mode": {
    "name": "ipython",
    "version": 3
   },
   "file_extension": ".py",
   "mimetype": "text/x-python",
   "name": "python",
   "nbconvert_exporter": "python",
   "pygments_lexer": "ipython3",
   "version": "3.8.10"
  }
 },
 "nbformat": 4,
 "nbformat_minor": 5
}
